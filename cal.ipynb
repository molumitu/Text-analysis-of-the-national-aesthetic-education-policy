{
 "cells": [
  {
   "cell_type": "code",
   "execution_count": 1,
   "source": [
    "# -*- coding:utf-8\r\n",
    "import sys\r\n",
    "import os\r\n",
    "import importlib\r\n",
    "importlib.reload(sys)\r\n",
    "from pdfminer.pdfparser import PDFParser,PDFDocument\r\n",
    "from pdfminer.pdfinterp import PDFResourceManager, PDFPageInterpreter\r\n",
    "from pdfminer.converter import PDFPageAggregator\r\n",
    "from pdfminer.layout import LTTextBoxHorizontal,LAParams\r\n",
    "from pdfminer.pdfinterp import PDFTextExtractionNotAllowed\r\n",
    "import jieba\r\n",
    " \r\n",
    "'''\r\n",
    " 解析pdf 文本，保存到txt文件中\r\n",
    "'''\r\n",
    "root_path = R'C:\\Users\\zgj_t\\Desktop\\SummerCourse'\r\n",
    "\r\n",
    "def parse_pdf(name):\r\n",
    "    pdf_name = name+'.pdf'\r\n",
    "    txt_name = name+'.txt'\r\n",
    "    pdf_path = os.path.join(root_path, pdf_name)\r\n",
    "    txt_path = os.path.join(root_path, txt_name)\r\n",
    "    fp = open(pdf_path, 'rb') # 以二进制读模式打开\r\n",
    "    #用文件对象来创建一个pdf文档分析器\r\n",
    "    praser = PDFParser(fp)\r\n",
    "    # 创建一个PDF文档\r\n",
    "    doc = PDFDocument()\r\n",
    "    # 连接分析器 与文档对象\r\n",
    "    praser.set_document(doc)\r\n",
    "    doc.set_parser(praser)\r\n",
    " \r\n",
    "    # 提供初始化密码\r\n",
    "    # 如果没有密码 就创建一个空的字符串\r\n",
    "    doc.initialize()\r\n",
    " \r\n",
    "    # 检测文档是否提供txt转换，不提供就忽略\r\n",
    "    if not doc.is_extractable:\r\n",
    "        raise PDFTextExtractionNotAllowed\r\n",
    "    else:\r\n",
    "        # 创建PDf 资源管理器 来管理共享资源\r\n",
    "        rsrcmgr = PDFResourceManager()\r\n",
    "        # 创建一个PDF设备对象\r\n",
    "        laparams = LAParams()\r\n",
    "        device = PDFPageAggregator(rsrcmgr, laparams=laparams)\r\n",
    "        # 创建一个PDF解释器对象\r\n",
    "        interpreter = PDFPageInterpreter(rsrcmgr, device)\r\n",
    " \r\n",
    "        # 循环遍历列表，每次处理一个page的内容\r\n",
    "        for page in doc.get_pages(): # doc.get_pages() 获取page列表\r\n",
    "            interpreter.process_page(page)\r\n",
    "            # 接受该页面的LTPage对象\r\n",
    "            layout = device.get_result()\r\n",
    "            # 这里layout是一个LTPage对象 里面存放着 这个page解析出的各种对象 一般包括LTTextBox, LTFigure, LTImage, LTTextBoxHorizontal 等等 想要获取文本就获得对象的text属性，\r\n",
    "            for x in layout:\r\n",
    "                if (isinstance(x, LTTextBoxHorizontal)):\r\n",
    "                    with open(txt_path, 'a', encoding='utf-8') as f:\r\n",
    "                        results = x.get_text()\r\n",
    "                        f.write(results + '\\n')\r\n",
    " \r\n",
    "def solve(name_list, pdf_names):\r\n",
    "    excludes = {} # 定义例外的词\r\n",
    "    word_list = []\r\n",
    "    for name in name_list:\r\n",
    "        txt_name = name+'.txt'\r\n",
    "        txt_path = os.path.join(root_path, txt_name)\r\n",
    "        txt = open(txt_path, \"r\", encoding='utf-8').read()\r\n",
    "        words = jieba.lcut(txt)\r\n",
    "        word_list.append(words)\r\n",
    "\r\n",
    "    counts = {}\r\n",
    "    for words in word_list:\r\n",
    "        for word in words:\r\n",
    "            if len(word) == 1:  # 排除单个字符的分词结果\r\n",
    "                continue\r\n",
    "            else:\r\n",
    "                counts[word] = counts.get(word, 0) + 1\r\n",
    "        for word in excludes:\r\n",
    "            del (counts[word])\r\n",
    "    items = list(counts.items())\r\n",
    "    items.sort(key=lambda x: x[1], reverse=True)\r\n",
    "    for i in range(15):\r\n",
    "        word, count = items[i]\r\n",
    "        print(\"{:*<10}{:->5}\".format(word, count))\r\n",
    "    for name in pdf_names:\r\n",
    "        os.remove(name+'.txt')"
   ],
   "outputs": [],
   "metadata": {}
  },
  {
   "cell_type": "code",
   "execution_count": 2,
   "source": [
    "pdf_name1 = '学校艺术教育工作规程 - 中华人民共和国教育部政府门户网站'\r\n",
    "pdf_name2 = '教育部关于切实加强新时代高等学校美育工作的意见 - 中华人民共和国教育部政府门户网站'\r\n",
    "pdf_name3 = '教育部关于推进学校艺术教育发展的若干意见 - 中华人民共和国教育部政府门户网站'\r\n",
    "txt_name1 = '关于全面加强和改进新时代学校美育工作的意见'\r\n",
    "pdf_names = [pdf_name1, pdf_name2, pdf_name3]\r\n",
    "txt_names = [txt_name1]\r\n",
    "name_list = pdf_names + txt_names\r\n",
    "for pdf_name in pdf_names:\r\n",
    "    parse_pdf(pdf_name)"
   ],
   "outputs": [],
   "metadata": {}
  },
  {
   "cell_type": "code",
   "execution_count": 7,
   "source": [
    "solve(name_list, pdf_names)"
   ],
   "outputs": [
    {
     "output_type": "stream",
     "name": "stdout",
     "text": [
      "艺术********-3329\n",
      "教育********-2174\n",
      "学校********-1478\n",
      "美育********-1034\n",
      "高校********--803\n",
      "学生********--677\n",
      "工作********--607\n",
      "课程********--545\n",
      "活动********--543\n",
      "发展********--482\n",
      "教师********--403\n",
      "文化********--345\n",
      "建设********--330\n",
      "教学********--324\n",
      "应当********--310\n"
     ]
    }
   ],
   "metadata": {}
  }
 ],
 "metadata": {
  "orig_nbformat": 4,
  "language_info": {
   "name": "python",
   "version": "3.8.3",
   "mimetype": "text/x-python",
   "codemirror_mode": {
    "name": "ipython",
    "version": 3
   },
   "pygments_lexer": "ipython3",
   "nbconvert_exporter": "python",
   "file_extension": ".py"
  },
  "kernelspec": {
   "name": "python3",
   "display_name": "Python 3.8.3 64-bit ('base': conda)"
  },
  "interpreter": {
   "hash": "b3ba2566441a7c06988d0923437866b63cedc61552a5af99d1f4fb67d367b25f"
  }
 },
 "nbformat": 4,
 "nbformat_minor": 2
}