{
 "cells": [
  {
   "cell_type": "code",
   "execution_count": 121,
   "source": [
    "import os\r\n",
    "root_path = R'C:\\Users\\zgj_t\\Desktop\\SummerCourse'\r\n",
    "root_path_local = R'C:\\Users\\zgj_t\\Desktop\\SummerCourse\\北大法宝地方法规库批量下载2021.08.21. 12.05.11'\r\n",
    "root_path_center = R'C:\\Users\\zgj_t\\Desktop\\SummerCourse\\北大法宝中央法规库批量下载2021.08.21. 12.07.31' \r\n",
    "root_path_local_list = os.listdir(root_path_local)\r\n",
    "root_path_center_list = os.listdir(root_path_center)"
   ],
   "outputs": [],
   "metadata": {}
  },
  {
   "cell_type": "code",
   "execution_count": 137,
   "source": [
    "import numpy as np\r\n",
    "path_name_pairs = [[root_path_center, root_path_center_list]]\r\n",
    "num_keywords = 15\r\n",
    "num_papers = len(root_path_center_list)\r\n",
    "excludes = {} # 定义例外的词"
   ],
   "outputs": [],
   "metadata": {}
  },
  {
   "cell_type": "code",
   "execution_count": 138,
   "source": [
    "root_path_center_list"
   ],
   "outputs": [
    {
     "output_type": "execute_result",
     "data": {
      "text/plain": [
       "['中共中央办公厅、国务院办公厅印发《关于全面加强和改进新时代学校美育工作的意见》(FBM-CLI-16-346926).txt',\n",
       " '国务院办公厅关于全面加强和改进学校美育工作的意见(FBM-CLI-2-257676).txt',\n",
       " '教育部关于切实加强新时代高等学校美育工作的意见(FBM-CLI-4-331212).txt',\n",
       " '教育部关于印发《学校体育美育兼职教师管理办法》的通知(FBM-CLI-4-304424).txt',\n",
       " '教育部关于成立首届全国高校美育教学指导委员会的通知(FBM-CLI-4-345235).txt',\n",
       " '教育部关于推进学校艺术教育发展的若干意见(FBM-CLI-4-217726).txt',\n",
       " '教育部办公厅关于举办全国第三届高校艺术教育科研论文报告会和全国大学校长美育论坛的通知(FBM-CLI-4-146351).txt',\n",
       " '教育部办公厅关于公布体育美育浸润行动计划入选名单的通知(FBM-CLI-4-337360).txt',\n",
       " '教育部办公厅关于开展体育美育浸润行动计划的通知(FBM-CLI-4-333470).txt',\n",
       " '教育部办公厅关于成立首届全国中小学美育教学指导专业委员会的通知(FBM-CLI-4-354375).txt',\n",
       " '教育部办公厅关于签署第一批学校美育改革发展备忘录有关事项的通知(FBM-CLI-4-278235).txt',\n",
       " '教育部办公厅关于遴选首届全国中小学美育教学指导专业委员会委员人选的通知(FBM-CLI-4-351357).txt']"
      ]
     },
     "metadata": {},
     "execution_count": 138
    }
   ],
   "metadata": {}
  },
  {
   "cell_type": "code",
   "execution_count": 139,
   "source": [
    "import jieba\r\n",
    "def solve(path_name_pairs):\r\n",
    "    full_word_list = []\r\n",
    "    for pair in path_name_pairs:\r\n",
    "        root_path = pair[0]\r\n",
    "        name_list = pair[1]\r\n",
    "        print(root_path)\r\n",
    "        for name in name_list:\r\n",
    "            txt_name = name\r\n",
    "            txt_path = os.path.join(root_path, txt_name)\r\n",
    "            txt = open(txt_path, \"r\", encoding='utf-8').read()\r\n",
    "            words = jieba.lcut(txt)\r\n",
    "            full_word_list.append(words)\r\n",
    "\r\n",
    "    counts = {}\r\n",
    "    for words in full_word_list:\r\n",
    "        for word in words:\r\n",
    "            if len(word) == 1 or (word in excludes):  # 排除单个字符的分词结果\r\n",
    "                continue\r\n",
    "            else:\r\n",
    "                counts[word] = counts.get(word, 0) + 1\r\n",
    "    items = list(counts.items())\r\n",
    "    items.sort(key=lambda x: x[1], reverse=True)\r\n",
    "    freq_dict = {}\r\n",
    "    word_list = []\r\n",
    "    for i in range(num_keywords*10):\r\n",
    "        word, count = items[i]\r\n",
    "        word_list.append(word)\r\n",
    "        freq_dict[word] = count\r\n",
    "        print(\"{:*<10}{:->5}\".format(word, count))\r\n",
    "    return full_word_list, freq_dict, word_list"
   ],
   "outputs": [],
   "metadata": {}
  },
  {
   "cell_type": "code",
   "execution_count": 140,
   "source": [
    "full_word_list, f, w = solve(path_name_pairs)"
   ],
   "outputs": [
    {
     "output_type": "stream",
     "name": "stdout",
     "text": [
      "C:\\Users\\zgj_t\\Desktop\\SummerCourse\\北大法宝中央法规库批量下载2021.08.21. 12.07.31\n",
      "美育********--524\n",
      "艺术********--396\n",
      "教育********--299\n",
      "学校********--265\n",
      "高校********--202\n",
      "工作********--124\n",
      "发展********--121\n",
      "学生********--115\n",
      "课程********--114\n",
      "教学********--110\n",
      "教师********--105\n",
      "论文********--101\n",
      "建设********---99\n",
      "专业********---82\n",
      "活动********---79\n",
      "教育部*******---72\n",
      "文化********---69\n",
      "中小学*******---68\n",
      "全国********---66\n",
      "研究********---66\n",
      "实践********---63\n",
      "开展********---58\n",
      "社会********---57\n",
      "指导********---53\n",
      "中小学校******---53\n",
      "推进********---52\n",
      "机制********---48\n",
      "改革********---47\n",
      "建立********---45\n",
      "培养********---44\n",
      "支持********---44\n",
      "全面********---43\n",
      "鼓励********---43\n",
      "关于********---42\n",
      "组织********---42\n",
      "服务********---42\n",
      "兼职教师******---38\n",
      "纳入********---37\n",
      "创新********---36\n",
      "评价********---35\n",
      "行政部门******---35\n",
      "坚持********---34\n",
      "审美********---33\n",
      "资源********---33\n",
      "报告会*******---32\n",
      "育人********---31\n",
      "公共********---31\n",
      "各级********---30\n",
      "高等学校******---30\n",
      "提高********---29\n",
      "管理********---29\n",
      "各地********---29\n",
      "行动计划******---29\n",
      "强化********---28\n",
      "具有********---28\n",
      "相关********---28\n",
      "制度********---28\n",
      "报送********---28\n",
      "要求********---27\n",
      "浸润********---27\n",
      "有关********---27\n",
      "委员会*******---26\n",
      "特色********---25\n",
      "中华********---25\n",
      "优秀********---25\n",
      "形成********---25\n",
      "根据********---25\n",
      "地区********---25\n",
      "促进********---25\n",
      "通知********---25\n",
      "重要********---24\n",
      "条件********---24\n",
      "师范大学******---24\n",
      "意见********---23\n",
      "素养********---23\n",
      "社会主义******---23\n",
      "各类********---23\n",
      "校园文化******---23\n",
      "地方********---23\n",
      "统筹********---23\n",
      "申报********---23\n",
      "中学********---23\n",
      "人文********---22\n",
      "人才培养******---22\n",
      "传统********---22\n",
      "综合********---22\n",
      "协同********---22\n",
      "实施********---22\n",
      "保障********---22\n",
      "第三届*******---22\n",
      "丰富********---21\n",
      "提升********---21\n",
      "体系********---21\n",
      "基本********---21\n",
      "阶段********---21\n",
      "探索********---21\n",
      "作用********---21\n",
      "教师队伍******---21\n",
      "农村********---21\n",
      "培训********---21\n",
      "首届********---21\n",
      "科研********---21\n",
      "精神********---20\n",
      "完善********---20\n",
      "学科********---20\n",
      "特点********---20\n",
      "方案********---20\n",
      "水平********---20\n",
      "能力********---20\n",
      "参加********---20\n",
      "法宝********---20\n",
      "委员********---20\n",
      "附件********---20\n",
      "论坛********---20\n",
      "代码********---20\n",
      "改进********---19\n",
      "科学********---19\n",
      "内容********---19\n",
      "开设********---19\n",
      "问题********---19\n",
      "制定********---19\n",
      "部门********---19\n",
      "办公厅*******---19\n",
      "时代********---18\n",
      "国家********---18\n",
      "教材********---18\n",
      "基础********---18\n",
      "重点********---18\n",
      "展演********---18\n",
      "省级********---18\n",
      "领导********---18\n",
      "督导********---18\n",
      "小学********---18\n",
      "专家********---18\n",
      "人员********---18\n",
      "推荐********---18\n",
      "民族********---17\n",
      "落实********---17\n",
      "参与********---17\n",
      "素质********---17\n",
      "办法********---17\n",
      "一批********---16\n",
      "以及********---16\n",
      "提供********---16\n",
      "计划********---16\n",
      "政府********---16\n",
      "进行********---16\n",
      "校长********---16\n",
      "教指委*******---16\n",
      "中国********---15\n"
     ]
    }
   ],
   "metadata": {}
  },
  {
   "cell_type": "code",
   "execution_count": 141,
   "source": [
    "words_dict_list = []\r\n",
    "for words in full_word_list:\r\n",
    "    single_counts = {}\r\n",
    "    for word in words:\r\n",
    "        if len(word) == 1 or (word in excludes):  # 排除单个字符的分词结果\r\n",
    "            continue\r\n",
    "        else:\r\n",
    "            single_counts[word] = single_counts.get(word, 0) + 1\r\n",
    "    words_dict_list.append(single_counts)\r\n",
    "len(words_dict_list)"
   ],
   "outputs": [
    {
     "output_type": "execute_result",
     "data": {
      "text/plain": [
       "12"
      ]
     },
     "metadata": {},
     "execution_count": 141
    }
   ],
   "metadata": {}
  },
  {
   "cell_type": "code",
   "execution_count": 142,
   "source": [
    "key_words_list = w[:num_keywords]\r\n",
    "key_words_list"
   ],
   "outputs": [
    {
     "output_type": "execute_result",
     "data": {
      "text/plain": [
       "['美育',\n",
       " '艺术',\n",
       " '教育',\n",
       " '学校',\n",
       " '高校',\n",
       " '工作',\n",
       " '发展',\n",
       " '学生',\n",
       " '课程',\n",
       " '教学',\n",
       " '教师',\n",
       " '论文',\n",
       " '建设',\n",
       " '专业',\n",
       " '活动']"
      ]
     },
     "metadata": {},
     "execution_count": 142
    }
   ],
   "metadata": {}
  },
  {
   "cell_type": "code",
   "execution_count": 143,
   "source": [
    "word_mat = np.zeros((num_keywords, num_papers))\r\n",
    "for i in range(num_papers):\r\n",
    "    tem_word_dict = words_dict_list[i]\r\n",
    "    for j, keyword in enumerate(key_words_list):\r\n",
    "        if keyword in tem_word_dict.keys():\r\n",
    "            word_mat[j, i] = tem_word_dict[keyword]\r\n",
    "print(word_mat)"
   ],
   "outputs": [
    {
     "output_type": "stream",
     "name": "stdout",
     "text": [
      "[[ 87. 146.  81.  40.  21.   3.  11.  42.  36.  20.   9.  28.]\n",
      " [ 57.  38.  66.   9.   3. 142.  68.   1.   5.   0.   1.   6.]\n",
      " [ 24.  26.  38.  17.   1.  86.  58.   6.  16.  16.   0.  11.]\n",
      " [ 59.  62.  13.  33.   1.  58.   4.  17.   6.   2.   9.   1.]\n",
      " [ 11.   8.  72.   0.  21.   1.  51.  16.  22.   0.   0.   0.]\n",
      " [ 15.  16.  27.   7.   9.   6.   3.   7.  13.   7.   3.  11.]\n",
      " [ 14.  30.  18.   7.   0.  20.   8.   3.  11.   2.   8.   0.]\n",
      " [ 20.  28.  13.  10.   0.  28.   2.   3.  11.   0.   0.   0.]\n",
      " [ 26.  34.  14.   2.   1.  19.   4.   3.   9.   1.   0.   1.]\n",
      " [ 13.  13.  11.   7.   9.   7.   0.   4.   8.  16.   0.  22.]\n",
      " [ 17.  21.  13.   6.   1.  15.  17.   3.   5.   5.   0.   2.]\n",
      " [  0.   0.   0.   0.   0.   0. 101.   0.   0.   0.   0.   0.]\n",
      " [ 18.  16.  21.   6.   2.   6.   9.   7.   8.   2.   0.   4.]\n",
      " [  4.   9.  26.   4.   0.   1.  17.   1.   5.   5.   0.  10.]\n",
      " [ 10.  13.  11.   3.   0.  16.  13.   3.  10.   0.   0.   0.]]\n"
     ]
    }
   ],
   "metadata": {}
  },
  {
   "cell_type": "code",
   "execution_count": 144,
   "source": [
    "np.sum(word_mat, axis=1)"
   ],
   "outputs": [
    {
     "output_type": "execute_result",
     "data": {
      "text/plain": [
       "array([524., 396., 299., 265., 202., 124., 121., 115., 114., 110., 105.,\n",
       "       101.,  99.,  82.,  79.])"
      ]
     },
     "metadata": {},
     "execution_count": 144
    }
   ],
   "metadata": {}
  },
  {
   "cell_type": "code",
   "execution_count": 145,
   "source": [
    "np.savetxt('word_mat.csv', word_mat,delimiter=',')"
   ],
   "outputs": [],
   "metadata": {}
  }
 ],
 "metadata": {
  "orig_nbformat": 4,
  "language_info": {
   "name": "python",
   "version": "3.8.3",
   "mimetype": "text/x-python",
   "codemirror_mode": {
    "name": "ipython",
    "version": 3
   },
   "pygments_lexer": "ipython3",
   "nbconvert_exporter": "python",
   "file_extension": ".py"
  },
  "kernelspec": {
   "name": "python3",
   "display_name": "Python 3.8.3 64-bit ('base': conda)"
  },
  "interpreter": {
   "hash": "b3ba2566441a7c06988d0923437866b63cedc61552a5af99d1f4fb67d367b25f"
  }
 },
 "nbformat": 4,
 "nbformat_minor": 2
}